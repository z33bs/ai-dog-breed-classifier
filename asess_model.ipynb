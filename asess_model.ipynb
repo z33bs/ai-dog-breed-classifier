{
 "cells": [
  {
   "cell_type": "code",
   "execution_count": null,
   "metadata": {},
   "outputs": [],
   "source": [
    "# choose your saved model class\n",
    "import model_scratch_v3 as m\n",
    "\n",
    "import torch\n",
    "import torch.nn.functional as F"
   ]
  },
  {
   "cell_type": "code",
   "execution_count": null,
   "metadata": {},
   "outputs": [],
   "source": [
    "# load checkpoint corresponding to model\n",
    "checkpoint = torch.load('model_scratch_v3.pt')\n",
    "\n",
    "\n",
    "model = m.Net()\n",
    "model.load_state_dict(checkpoint['state_dict'])\n",
    "model.epoch = checkpoint['epoch']\n",
    "model.min_validation_loss = checkpoint['min_validation_loss']\n",
    "model.max_accuracy = checkpoint['max_accuracy']"
   ]
  },
  {
   "cell_type": "code",
   "execution_count": null,
   "metadata": {},
   "outputs": [],
   "source": [
    "# Todo - handle all layers by being flexible about tensor dimensions\n",
    "# Clean up logic as i only attached hook where needed (trash try block)\n",
    "\n",
    "def printnorm(self, input, output):\n",
    "    # input is a tuple of packed inputs\n",
    "    # output is a Tensor. output.data is the Tensor we are interested\n",
    "    class_name = self.__class__.__name__\n",
    "    \n",
    "    if class_name in ['Conv2d','Linear']:\n",
    "        print('Inside ' + self.__class__.__name__ + ' forward')\n",
    "        print('')\n",
    "        print('input size:', input[0].size())\n",
    "        print('output size:', output.data.size())\n",
    "        print('output norm:', output.data.norm())\n",
    "\n",
    "        try:\n",
    "            output = F.relu(output)\n",
    "\n",
    "            if output.dim() == 4:\n",
    "                num_dead = (output.data == 0).sum(1).sum(1).sum(1)\n",
    "            elif output.dim() == 2:\n",
    "                num_dead = (output.data == 0).sum(1)\n",
    "            else:\n",
    "                print('unexpected dim of', output.dim)\n",
    "\n",
    "            num_el = output.data.numel()\n",
    "            print('% dead relus:', (num_dead.float()/num_el*100.).item())\n",
    "            print('elements:', num_el)\n",
    "\n",
    "\n",
    "        except:\n",
    "            print('unexpeted error!')\n",
    "    \n",
    "    print('-'*100)\n",
    "\n",
    "\n",
    "# model.conv2.register_forward_hook(printnorm)\n",
    "\n",
    "# out = model(input)"
   ]
  },
  {
   "cell_type": "code",
   "execution_count": null,
   "metadata": {},
   "outputs": [],
   "source": [
    "for param in model.modules():\n",
    "    class_name = param.__class__.__name__\n",
    "    print(class_name,end='')\n",
    "    if class_name in ['Conv2d','Linear']:        \n",
    "        param.register_forward_hook(printnorm)\n",
    "        print(' << attaching hook')\n",
    "    print('\\n')"
   ]
  },
  {
   "cell_type": "code",
   "execution_count": null,
   "metadata": {},
   "outputs": [],
   "source": [
    "x = torch.randn(1,3,64, 64)\n",
    "output = model(x)\n"
   ]
  },
  {
   "cell_type": "code",
   "execution_count": null,
   "metadata": {},
   "outputs": [],
   "source": []
  },
  {
   "cell_type": "code",
   "execution_count": null,
   "metadata": {},
   "outputs": [],
   "source": []
  },
  {
   "cell_type": "code",
   "execution_count": null,
   "metadata": {},
   "outputs": [],
   "source": []
  }
 ],
 "metadata": {
  "kernelspec": {
   "display_name": "Python 3",
   "language": "python",
   "name": "python3"
  },
  "language_info": {
   "codemirror_mode": {
    "name": "ipython",
    "version": 3
   },
   "file_extension": ".py",
   "mimetype": "text/x-python",
   "name": "python",
   "nbconvert_exporter": "python",
   "pygments_lexer": "ipython3",
   "version": "3.9.1"
  }
 },
 "nbformat": 4,
 "nbformat_minor": 4
}
