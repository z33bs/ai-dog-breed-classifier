{
 "cells": [
  {
   "cell_type": "markdown",
   "metadata": {},
   "source": [
    "# Convolutional Neural Networks\n",
    "\n",
    "## Project: Write an Algorithm for a Dog Identification App \n",
    "\n",
    "---\n",
    "\n",
    "In this notebook, some template code has already been provided for you, and you will need to implement additional functionality to successfully complete this project. You will not need to modify the included code beyond what is requested. Sections that begin with **'(IMPLEMENTATION)'** in the header indicate that the following block of code will require additional functionality which you must provide. Instructions will be provided for each section, and the specifics of the implementation are marked in the code block with a 'TODO' statement. Please be sure to read the instructions carefully! \n",
    "\n",
    "> **Note**: Once you have completed all of the code implementations, you need to finalize your work by exporting the Jupyter Notebook as an HTML document. Before exporting the notebook to html, all of the code cells need to have been run so that reviewers can see the final implementation and output. You can then export the notebook by using the menu above and navigating to **File -> Download as -> HTML (.html)**. Include the finished document along with this notebook as your submission.\n",
    "\n",
    "In addition to implementing code, there will be questions that you must answer which relate to the project and your implementation. Each section where you will answer a question is preceded by a **'Question X'** header. Carefully read each question and provide thorough answers in the following text boxes that begin with **'Answer:'**. Your project submission will be evaluated based on your answers to each of the questions and the implementation you provide.\n",
    "\n",
    ">**Note:** Code and Markdown cells can be executed using the **Shift + Enter** keyboard shortcut.  Markdown cells can be edited by double-clicking the cell to enter edit mode.\n",
    "\n",
    "The rubric contains _optional_ \"Stand Out Suggestions\" for enhancing the project beyond the minimum requirements. If you decide to pursue the \"Stand Out Suggestions\", you should include the code in this Jupyter notebook.\n",
    "\n",
    "\n",
    "\n",
    "---\n",
    "### Why We're Here \n",
    "\n",
    "In this notebook, you will make the first steps towards developing an algorithm that could be used as part of a mobile or web app.  At the end of this project, your code will accept any user-supplied image as input.  If a dog is detected in the image, it will provide an estimate of the dog's breed.  If a human is detected, it will provide an estimate of the dog breed that is most resembling.  The image below displays potential sample output of your finished project (... but we expect that each student's algorithm will behave differently!). \n",
    "\n",
    "![Sample Dog Output](images/sample_dog_output.png)\n",
    "\n",
    "In this real-world setting, you will need to piece together a series of models to perform different tasks; for instance, the algorithm that detects humans in an image will be different from the CNN that infers dog breed.  There are many points of possible failure, and no perfect algorithm exists.  Your imperfect solution will nonetheless create a fun user experience!\n",
    "\n",
    "### The Road Ahead\n",
    "\n",
    "We break the notebook into separate steps.  Feel free to use the links below to navigate the notebook.\n",
    "\n",
    "* [Step 0](#step0): Import Datasets\n",
    "* [Step 1](#step1): Detect Humans\n",
    "* [Step 2](#step2): Detect Dogs\n",
    "* [Step 3](#step3): Create a CNN to Classify Dog Breeds (from Scratch)\n",
    "* [Step 4](#step4): Create a CNN to Classify Dog Breeds (using Transfer Learning)\n",
    "* [Step 5](#step5): Write your Algorithm\n",
    "* [Step 6](#step6): Test Your Algorithm\n",
    "\n",
    "---\n",
    "<a id='step0'></a>\n",
    "## Step 0: Import Datasets\n",
    "\n",
    "Make sure that you've downloaded the required human and dog datasets:\n",
    "\n",
    "**Note: if you are using the Udacity workspace, you *DO NOT* need to re-download these - they can be found in the `/data` folder as noted in the cell below.**\n",
    "\n",
    "* Download the [dog dataset](https://s3-us-west-1.amazonaws.com/udacity-aind/dog-project/dogImages.zip).  Unzip the folder and place it in this project's home directory, at the location `/dog_images`. \n",
    "\n",
    "* Download the [human dataset](https://s3-us-west-1.amazonaws.com/udacity-aind/dog-project/lfw.zip).  Unzip the folder and place it in the home directory, at location `/lfw`.  \n",
    "\n",
    "*Note: If you are using a Windows machine, you are encouraged to use [7zip](http://www.7-zip.org/) to extract the folder.*\n",
    "\n",
    "In the code cell below, we save the file paths for both the human (LFW) dataset and dog dataset in the numpy arrays `human_files` and `dog_files`."
   ]
  },
  {
   "cell_type": "code",
   "execution_count": null,
   "metadata": {},
   "outputs": [],
   "source": [
    "import numpy as np\n",
    "from glob import glob\n",
    "\n",
    "# load filenames for human and dog images\n",
    "human_files = np.array(glob(\"/data/lfw/*/*\"))\n",
    "dog_files = np.array(glob(\"/data/dog_images/*/*/*\"))\n",
    "\n",
    "# print number of images in each dataset\n",
    "print('There are %d total human images.' % len(human_files))\n",
    "print('There are %d total dog images.' % len(dog_files))"
   ]
  },
  {
   "cell_type": "markdown",
   "metadata": {},
   "source": [
    "<a id='step1'></a>\n",
    "## Step 1: Detect Humans\n",
    "\n",
    "In this section, we use OpenCV's implementation of [Haar feature-based cascade classifiers](http://docs.opencv.org/trunk/d7/d8b/tutorial_py_face_detection.html) to detect human faces in images.  \n",
    "\n",
    "OpenCV provides many pre-trained face detectors, stored as XML files on [github](https://github.com/opencv/opencv/tree/master/data/haarcascades).  We have downloaded one of these detectors and stored it in the `haarcascades` directory.  In the next code cell, we demonstrate how to use this detector to find human faces in a sample image."
   ]
  },
  {
   "cell_type": "code",
   "execution_count": null,
   "metadata": {},
   "outputs": [],
   "source": [
    "import cv2                \n",
    "import matplotlib.pyplot as plt                        \n",
    "%matplotlib inline                               \n",
    "\n",
    "# extract pre-trained face detector\n",
    "face_cascade = cv2.CascadeClassifier('haarcascades/haarcascade_frontalface_alt.xml')\n",
    "\n",
    "# load color (BGR) image\n",
    "img = cv2.imread(human_files[0])\n",
    "# convert BGR image to grayscale\n",
    "gray = cv2.cvtColor(img, cv2.COLOR_BGR2GRAY)\n",
    "\n",
    "# find faces in image\n",
    "faces = face_cascade.detectMultiScale(gray)\n",
    "\n",
    "# print number of faces detected in the image\n",
    "print('Number of faces detected:', len(faces))\n",
    "\n",
    "# get bounding box for each detected face\n",
    "for (x,y,w,h) in faces:\n",
    "    # add bounding box to color image\n",
    "    cv2.rectangle(img,(x,y),(x+w,y+h),(255,0,0),2)\n",
    "    \n",
    "# convert BGR image to RGB for plotting\n",
    "cv_rgb = cv2.cvtColor(img, cv2.COLOR_BGR2RGB)\n",
    "\n",
    "# display the image, along with bounding box\n",
    "plt.imshow(cv_rgb)\n",
    "plt.show()"
   ]
  },
  {
   "cell_type": "markdown",
   "metadata": {},
   "source": [
    "Before using any of the face detectors, it is standard procedure to convert the images to grayscale.  The `detectMultiScale` function executes the classifier stored in `face_cascade` and takes the grayscale image as a parameter.  \n",
    "\n",
    "In the above code, `faces` is a numpy array of detected faces, where each row corresponds to a detected face.  Each detected face is a 1D array with four entries that specifies the bounding box of the detected face.  The first two entries in the array (extracted in the above code as `x` and `y`) specify the horizontal and vertical positions of the top left corner of the bounding box.  The last two entries in the array (extracted here as `w` and `h`) specify the width and height of the box.\n",
    "\n",
    "### Write a Human Face Detector\n",
    "\n",
    "We can use this procedure to write a function that returns `True` if a human face is detected in an image and `False` otherwise.  This function, aptly named `face_detector`, takes a string-valued file path to an image as input and appears in the code block below."
   ]
  },
  {
   "cell_type": "code",
   "execution_count": null,
   "metadata": {},
   "outputs": [],
   "source": [
    "# returns \"True\" if face is detected in image stored at img_path\n",
    "def face_detector(img_path):\n",
    "    img = cv2.imread(img_path)\n",
    "    gray = cv2.cvtColor(img, cv2.COLOR_BGR2GRAY)\n",
    "    faces = face_cascade.detectMultiScale(gray)\n",
    "    return len(faces) > 0"
   ]
  },
  {
   "cell_type": "markdown",
   "metadata": {},
   "source": [
    "### (IMPLEMENTATION) Assess the Human Face Detector\n",
    "\n",
    "__Question 1:__ Use the code cell below to test the performance of the `face_detector` function.  \n",
    "- What percentage of the first 100 images in `human_files` have a detected human face?  \n",
    "- What percentage of the first 100 images in `dog_files` have a detected human face? \n",
    "\n",
    "Ideally, we would like 100% of human images with a detected face and 0% of dog images with a detected face.  You will see that our algorithm falls short of this goal, but still gives acceptable performance.  We extract the file paths for the first 100 images from each of the datasets and store them in the numpy arrays `human_files_short` and `dog_files_short`."
   ]
  },
  {
   "cell_type": "markdown",
   "metadata": {},
   "source": [
    "__Answer:__ \n",
    "(You can print out your results and/or write your percentages in this cell)"
   ]
  },
  {
   "cell_type": "code",
   "execution_count": null,
   "metadata": {},
   "outputs": [],
   "source": [
    "from tqdm import tqdm\n",
    "\n",
    "human_files_short = human_files[:100]\n",
    "dog_files_short = dog_files[:100]\n",
    "\n",
    "#-#-# Do NOT modify the code above this line. #-#-#\n",
    "\n",
    "## TODO: Test the performance of the face_detector algorithm \n",
    "## on the images in human_files_short and dog_files_short.\n"
   ]
  },
  {
   "cell_type": "markdown",
   "metadata": {},
   "source": [
    "We suggest the face detector from OpenCV as a potential way to detect human images in your algorithm, but you are free to explore other approaches, especially approaches that make use of deep learning :).  Please use the code cell below to design and test your own face detection algorithm.  If you decide to pursue this _optional_ task, report performance on `human_files_short` and `dog_files_short`."
   ]
  },
  {
   "cell_type": "code",
   "execution_count": null,
   "metadata": {},
   "outputs": [],
   "source": [
    "### (Optional) \n",
    "### TODO: Test performance of anotherface detection algorithm.\n",
    "### Feel free to use as many code cells as needed."
   ]
  },
  {
   "cell_type": "markdown",
   "metadata": {},
   "source": [
    "---\n",
    "<a id='step2'></a>\n",
    "## Step 2: Detect Dogs\n",
    "\n",
    "In this section, we use a [pre-trained model](http://pytorch.org/docs/master/torchvision/models.html) to detect dogs in images.  \n",
    "\n",
    "### Obtain Pre-trained VGG-16 Model\n",
    "\n",
    "The code cell below downloads the VGG-16 model, along with weights that have been trained on [ImageNet](http://www.image-net.org/), a very large, very popular dataset used for image classification and other vision tasks.  ImageNet contains over 10 million URLs, each linking to an image containing an object from one of [1000 categories](https://gist.github.com/yrevar/942d3a0ac09ec9e5eb3a).  "
   ]
  },
  {
   "cell_type": "code",
   "execution_count": null,
   "metadata": {},
   "outputs": [],
   "source": [
    "import torch\n",
    "import torchvision.models as models\n",
    "\n",
    "# define VGG16 model\n",
    "VGG16 = models.vgg16(pretrained=True)\n",
    "\n",
    "# check if CUDA is available\n",
    "use_cuda = torch.cuda.is_available()\n",
    "\n",
    "# move model to GPU if CUDA is available\n",
    "if use_cuda:\n",
    "    VGG16 = VGG16.cuda()"
   ]
  },
  {
   "cell_type": "markdown",
   "metadata": {},
   "source": [
    "Given an image, this pre-trained VGG-16 model returns a prediction (derived from the 1000 possible categories in ImageNet) for the object that is contained in the image."
   ]
  },
  {
   "cell_type": "markdown",
   "metadata": {},
   "source": [
    "### (IMPLEMENTATION) Making Predictions with a Pre-trained Model\n",
    "\n",
    "In the next code cell, you will write a function that accepts a path to an image (such as `'dogImages/train/001.Affenpinscher/Affenpinscher_00001.jpg'`) as input and returns the index corresponding to the ImageNet class that is predicted by the pre-trained VGG-16 model.  The output should always be an integer between 0 and 999, inclusive.\n",
    "\n",
    "Before writing the function, make sure that you take the time to learn  how to appropriately pre-process tensors for pre-trained models in the [PyTorch documentation](http://pytorch.org/docs/stable/torchvision/models.html)."
   ]
  },
  {
   "cell_type": "code",
   "execution_count": null,
   "metadata": {},
   "outputs": [],
   "source": [
    "from PIL import Image\n",
    "import torchvision.transforms as transforms\n",
    "\n",
    "def VGG16_predict(img_path):\n",
    "    '''\n",
    "    Use pre-trained VGG-16 model to obtain index corresponding to \n",
    "    predicted ImageNet class for image at specified path\n",
    "    \n",
    "    Args:\n",
    "        img_path: path to an image\n",
    "        \n",
    "    Returns:\n",
    "        Index corresponding to VGG-16 model's prediction\n",
    "    '''\n",
    "    \n",
    "    ## TODO: Complete the function.\n",
    "    ## Load and pre-process an image from the given img_path\n",
    "    ## Return the *index* of the predicted class for that image\n",
    "    \n",
    "    return None # predicted class index"
   ]
  },
  {
   "cell_type": "markdown",
   "metadata": {},
   "source": [
    "### (IMPLEMENTATION) Write a Dog Detector\n",
    "\n",
    "While looking at the [dictionary](https://gist.github.com/yrevar/942d3a0ac09ec9e5eb3a), you will notice that the categories corresponding to dogs appear in an uninterrupted sequence and correspond to dictionary keys 151-268, inclusive, to include all categories from `'Chihuahua'` to `'Mexican hairless'`.  Thus, in order to check to see if an image is predicted to contain a dog by the pre-trained VGG-16 model, we need only check if the pre-trained model predicts an index between 151 and 268 (inclusive).\n",
    "\n",
    "Use these ideas to complete the `dog_detector` function below, which returns `True` if a dog is detected in an image (and `False` if not)."
   ]
  },
  {
   "cell_type": "code",
   "execution_count": null,
   "metadata": {},
   "outputs": [],
   "source": [
    "### returns \"True\" if a dog is detected in the image stored at img_path\n",
    "def dog_detector(img_path):\n",
    "    ## TODO: Complete the function.\n",
    "    \n",
    "    return None # true/false"
   ]
  },
  {
   "cell_type": "markdown",
   "metadata": {},
   "source": [
    "### (IMPLEMENTATION) Assess the Dog Detector\n",
    "\n",
    "__Question 2:__ Use the code cell below to test the performance of your `dog_detector` function.  \n",
    "- What percentage of the images in `human_files_short` have a detected dog?  \n",
    "- What percentage of the images in `dog_files_short` have a detected dog?"
   ]
  },
  {
   "cell_type": "markdown",
   "metadata": {},
   "source": [
    "__Answer:__ \n"
   ]
  },
  {
   "cell_type": "code",
   "execution_count": null,
   "metadata": {},
   "outputs": [],
   "source": [
    "### TODO: Test the performance of the dog_detector function\n",
    "### on the images in human_files_short and dog_files_short.\n"
   ]
  },
  {
   "cell_type": "markdown",
   "metadata": {},
   "source": [
    "We suggest VGG-16 as a potential network to detect dog images in your algorithm, but you are free to explore other pre-trained networks (such as [Inception-v3](http://pytorch.org/docs/master/torchvision/models.html#inception-v3), [ResNet-50](http://pytorch.org/docs/master/torchvision/models.html#id3), etc).  Please use the code cell below to test other pre-trained PyTorch models.  If you decide to pursue this _optional_ task, report performance on `human_files_short` and `dog_files_short`."
   ]
  },
  {
   "cell_type": "code",
   "execution_count": null,
   "metadata": {},
   "outputs": [],
   "source": [
    "### (Optional) \n",
    "### TODO: Report the performance of another pre-trained network.\n",
    "### Feel free to use as many code cells as needed."
   ]
  },
  {
   "cell_type": "markdown",
   "metadata": {},
   "source": [
    "---\n",
    "<a id='step3'></a>\n",
    "## Step 3: Create a CNN to Classify Dog Breeds (from Scratch)\n",
    "\n",
    "Now that we have functions for detecting humans and dogs in images, we need a way to predict breed from images.  In this step, you will create a CNN that classifies dog breeds.  You must create your CNN _from scratch_ (so, you can't use transfer learning _yet_!), and you must attain a test accuracy of at least 10%.  In Step 4 of this notebook, you will have the opportunity to use transfer learning to create a CNN that attains greatly improved accuracy.\n",
    "\n",
    "We mention that the task of assigning breed to dogs from images is considered exceptionally challenging.  To see why, consider that *even a human* would have trouble distinguishing between a Brittany and a Welsh Springer Spaniel.  \n",
    "\n",
    "Brittany | Welsh Springer Spaniel\n",
    "- | - \n",
    "<img src=\"images/Brittany_02625.jpg\" width=\"100\"> | <img src=\"images/Welsh_springer_spaniel_08203.jpg\" width=\"200\">\n",
    "\n",
    "It is not difficult to find other dog breed pairs with minimal inter-class variation (for instance, Curly-Coated Retrievers and American Water Spaniels).  \n",
    "\n",
    "Curly-Coated Retriever | American Water Spaniel\n",
    "- | -\n",
    "<img src=\"images/Curly-coated_retriever_03896.jpg\" width=\"200\"> | <img src=\"images/American_water_spaniel_00648.jpg\" width=\"200\">\n",
    "\n",
    "\n",
    "Likewise, recall that labradors come in yellow, chocolate, and black.  Your vision-based algorithm will have to conquer this high intra-class variation to determine how to classify all of these different shades as the same breed.  \n",
    "\n",
    "Yellow Labrador | Chocolate Labrador | Black Labrador\n",
    "- | -\n",
    "<img src=\"images/Labrador_retriever_06457.jpg\" width=\"150\"> | <img src=\"images/Labrador_retriever_06455.jpg\" width=\"240\"> | <img src=\"images/Labrador_retriever_06449.jpg\" width=\"220\">\n",
    "\n",
    "We also mention that random chance presents an exceptionally low bar: setting aside the fact that the classes are slightly imabalanced, a random guess will provide a correct answer roughly 1 in 133 times, which corresponds to an accuracy of less than 1%.  \n",
    "\n",
    "Remember that the practice is far ahead of the theory in deep learning.  Experiment with many different architectures, and trust your intuition.  And, of course, have fun!\n",
    "\n",
    "### (IMPLEMENTATION) Specify Data Loaders for the Dog Dataset\n",
    "\n",
    "Use the code cell below to write three separate [data loaders](http://pytorch.org/docs/stable/data.html#torch.utils.data.DataLoader) for the training, validation, and test datasets of dog images (located at `dog_images/train`, `dog_images/valid`, and `dog_images/test`, respectively).  You may find [this documentation on custom datasets](http://pytorch.org/docs/stable/torchvision/datasets.html) to be a useful resource.  If you are interested in augmenting your training and/or validation data, check out the wide variety of [transforms](http://pytorch.org/docs/stable/torchvision/transforms.html?highlight=transform)!"
   ]
  },
  {
   "cell_type": "code",
   "execution_count": null,
   "metadata": {},
   "outputs": [],
   "source": [
    "import os\n",
    "import torch\n",
    "from torchvision import datasets\n",
    "import torchvision.transforms as transforms \n",
    "from torch.utils.data.sampler import SubsetRandomSampler\n",
    "import numpy as np\n",
    "from tqdm import tqdm"
   ]
  },
  {
   "cell_type": "markdown",
   "metadata": {},
   "source": [
    "### Define data loaders"
   ]
  },
  {
   "cell_type": "markdown",
   "metadata": {},
   "source": [
    "Parameters and transforms"
   ]
  },
  {
   "cell_type": "code",
   "execution_count": null,
   "metadata": {},
   "outputs": [],
   "source": [
    "from PIL import ImageFile\n",
    "\n",
    "# To prevent: OSError: image file is truncated (150 bytes not processed)\n",
    "# which throws when image truncated\n",
    "ImageFile.LOAD_TRUNCATED_IMAGES = True"
   ]
  },
  {
   "cell_type": "markdown",
   "metadata": {},
   "source": [
    "Data parameters & transforms"
   ]
  },
  {
   "cell_type": "code",
   "execution_count": null,
   "metadata": {},
   "outputs": [],
   "source": [
    "# number of subprocesses to use for data loading\n",
    "if torch.cuda.is_available():\n",
    "    num_workers = 4 #±4 per gpu\n",
    "    batch_size = 50\n",
    "else:\n",
    "    num_workers = 0\n",
    "    batch_size = 200\n",
    "    \n",
    "# percentage of training set to use as validation\n",
    "valid_size = 0.2\n",
    "\n",
    "# imagenet norm\n",
    "mean=[0.485, 0.456, 0.406]\n",
    "std=[0.229, 0.224, 0.225]\n",
    "\n",
    "normalize = transforms.Normalize(\n",
    "    mean,\n",
    "    std)\n",
    "\n",
    "augment = transforms.Compose([\n",
    "    transforms.RandomRotation(30),\n",
    "    # Crop of random size (default: of 0.08 to 1.0) of the original size\n",
    "    # and a random aspect ratio (default: of 3/4 to 4/3)\n",
    "    # This crop is finally resized to given size\n",
    "    transforms.RandomResizedCrop(64),\n",
    "    transforms.RandomHorizontalFlip()])\n",
    "\n",
    "crop_in = transforms.Compose([\n",
    "    # Resize already done with preprocessing\n",
    "    #     transforms.Resize(80),\n",
    "    transforms.CenterCrop(64)])\n",
    "\n",
    "train_transform = transforms.Compose([\n",
    "    augment,\n",
    "    transforms.ToTensor(),\n",
    "    normalize])\n",
    "\n",
    "valid_transform = transforms.Compose([\n",
    "    crop_in,\n",
    "    transforms.ToTensor(),\n",
    "    normalize])\n",
    "\n",
    "test_transform = transforms.Compose([\n",
    "    transforms.Resize((64,64)),\n",
    "    transforms.ToTensor(),\n",
    "    normalize])\n",
    "\n"
   ]
  },
  {
   "cell_type": "markdown",
   "metadata": {},
   "source": [
    "Dataloaders"
   ]
  },
  {
   "cell_type": "code",
   "execution_count": null,
   "metadata": {},
   "outputs": [],
   "source": [
    "data_dir = 'sml80/data/dogImages' #laptop\n",
    "# data_dir = '/data/dog_images' #workspace\n",
    "\n",
    "train_data = datasets.ImageFolder(data_dir + '/train', transform = train_transform)\n",
    "valid_data = datasets.ImageFolder(data_dir + '/valid', transform = valid_transform)\n",
    "test_data = datasets.ImageFolder(data_dir + '/test', transform = test_transform)\n",
    "\n",
    "train_loader = torch.utils.data.DataLoader(train_data, batch_size = batch_size, shuffle= True, num_workers=num_workers)\n",
    "valid_loader = torch.utils.data.DataLoader(valid_data, batch_size = batch_size, shuffle= True, num_workers=num_workers)\n",
    "test_loader = torch.utils.data.DataLoader(test_data, batch_size = batch_size, num_workers=num_workers)\n",
    "\n",
    "print(\"Sample sizes:\\nTrain: {}\\tValid: {}\\tTest: {}\".format(len(train_data),len(valid_data),len(test_data)))\n",
    "\n",
    "# specify the image classes\n",
    "classes = train_data.classes\n",
    "\n",
    "# should you require dictionary mapping {class: idx}\n",
    "# train_data.class_to_idx"
   ]
  },
  {
   "cell_type": "markdown",
   "metadata": {},
   "source": [
    "### Visualize a Batch of Training Data"
   ]
  },
  {
   "cell_type": "code",
   "execution_count": null,
   "metadata": {},
   "outputs": [],
   "source": [
    "import matplotlib.pyplot as plt\n",
    "%matplotlib inline\n",
    "\n",
    "# helper function to un-normalize and display an image\n",
    "def imshow(img, un_normalized=True):\n",
    "\n",
    "    if un_normalized:\n",
    "        img = un_normalize(img,mean, std)\n",
    "    else:\n",
    "        # rescale normalized image to prevent clipping\n",
    "        img = (img * 255).numpy().astype(np.uint8)\n",
    "\n",
    "    plt.imshow(np.transpose(img, (1, 2, 0)))  # convert from Tensor image\n",
    "\n",
    "def un_normalize(tensor, mean, std):\n",
    "    \"\"\"\n",
    "    Args:\n",
    "        tensor (Tensor): Tensor image of size (C, H, W) to be normalized.\n",
    "        mean: len(3) list or tuple of normalization means\n",
    "        std: len(3) list or tuple of normalization std\n",
    "    Returns:\n",
    "        Tensor: Normalized image.\n",
    "    \"\"\"\n",
    "\n",
    "    for t, m, s in zip(tensor, mean, std):\n",
    "            t.mul_(s).add_(m)\n",
    "            # The normalize code -> t.sub_(m).div_(s)\n",
    "    return tensor    "
   ]
  },
  {
   "cell_type": "code",
   "execution_count": null,
   "metadata": {},
   "outputs": [],
   "source": [
    "# obtain one batch of training images\n",
    "dataiter = iter(train_loader)\n",
    "images, labels = dataiter.next()\n",
    "print(images.shape)\n",
    "print(labels.shape)"
   ]
  },
  {
   "cell_type": "code",
   "execution_count": null,
   "metadata": {},
   "outputs": [],
   "source": [
    "# plot the images in the batch, along with the corresponding labels\n",
    "fig = plt.figure(figsize=(30, 4))\n",
    "# display 20 images\n",
    "for idx in np.arange(20):\n",
    "    ax = fig.add_subplot(2, 10, idx+1, xticks=[], yticks=[])\n",
    "    imshow(images[idx])\n",
    "    ax.set_title(classes[labels[idx]])"
   ]
  },
  {
   "cell_type": "markdown",
   "metadata": {},
   "source": [
    "**Question 3:** Describe your chosen procedure for preprocessing the data. \n",
    "- How does your code resize the images (by cropping, stretching, etc)?  What size did you pick for the input tensor, and why?\n",
    "- Did you decide to augment the dataset?  If so, how (through translations, flips, rotations, etc)?  If not, why not?\n"
   ]
  },
  {
   "cell_type": "markdown",
   "metadata": {},
   "source": [
    "**Answer**:\n",
    "* 64 x 64 input. Smaller is better for computation speed. This size seemed large enough to capture distinguishing features but felt like the lower bound of what's possible\n",
    "* For quicker training i added a one-off pre-processing to resize all images to 80x80 to improve speed for dataloaders\n",
    "* Training resized using randomresizecrop. This effectively increases the training set (which is pretty small at ±6000 for 133 classes\n",
    "    * Added augmentation (30 deg rotation and horizontal flip)\n",
    "* Validation used relaxed augmentation center-crop only\n",
    "* Test used no manipulation, only resize\n",
    "\n",
    "The augmentation made validation closer to training loss. Also, my selection of manipulations resulted in test run accuracy being close to validaiton accuracy."
   ]
  },
  {
   "cell_type": "markdown",
   "metadata": {},
   "source": [
    "### (IMPLEMENTATION) Model Architecture\n",
    "\n",
    "Create a CNN to classify dog breed.  Use the template in the code cell below."
   ]
  },
  {
   "cell_type": "code",
   "execution_count": null,
   "metadata": {},
   "outputs": [],
   "source": [
    "import torch.nn as nn\n",
    "import torch.nn.functional as F\n",
    "\n",
    "# define the CNN architecture\n",
    "class Net(nn.Module):\n",
    "    def __init__(self):\n",
    "        super(Net, self).__init__()\n",
    "        \n",
    "        self.checkpoint_file = 'model_scratch_v3.pt'\n",
    "        self.epoch = 1\n",
    "        self.min_validation_loss = float('inf')\n",
    "        self.max_accuracy = 0.\n",
    "        \n",
    "        input_dims = 64\n",
    "        conv_out_dims = 4 # 64->32->16->8->4\n",
    "        conv_out_depth = 64\n",
    "        self.num_labels = 133        \n",
    "        \n",
    "        self.linear_input_dims = conv_out_depth * conv_out_dims**2\n",
    "        print(\"Conv input wxh {} \\nLinear input len {}\".format(input_dims, self.linear_input_dims))\n",
    "        \n",
    "        # Feature extractor\n",
    "                            # in, out, kernel\n",
    "        self.conv1 = nn.Conv2d(3, 16, 3, padding=1)\n",
    "        self.conv2 = nn.Conv2d(16, 32, 3, padding=1)\n",
    "        self.conv3 = nn.Conv2d(32, conv_out_depth, 3, padding=1)\n",
    "        self.conv4 = nn.Conv2d(conv_out_depth, conv_out_depth, 3, padding=1)\n",
    "\n",
    "\n",
    "        # max pooling layer\n",
    "        self.pool = nn.MaxPool2d(2, 2)\n",
    "        \n",
    "#         hidden_nodes = int((self.linear_input_dims+self.num_labels)/2)\n",
    "        self.fc1 = nn.Linear(self.linear_input_dims, 500)\n",
    "        self.fc2 = nn.Linear(500, 500)\n",
    "        self.fc3 = nn.Linear(500, self.num_labels)       \n",
    "\n",
    "        # dropout layer\n",
    "        self.dropout = nn.Dropout(0.25)\n",
    "\n",
    "    def forward(self, x):\n",
    "        # add sequence of convolutional and max pooling layers\n",
    "        x = self.pool(F.leaky_relu(self.conv1(x)))\n",
    "        x = self.pool(F.leaky_relu(self.conv2(x)))\n",
    "        x = self.pool(F.leaky_relu(self.conv3(x)))\n",
    "        x = self.pool(F.leaky_relu(self.conv4(x)))        \n",
    "        # flatten image input\n",
    "        x = x.view(-1, self.linear_input_dims)\n",
    "        \n",
    "        # Classifier\n",
    "        x = self.dropout(x)\n",
    "        x = F.leaky_relu(self.fc1(x))\n",
    "        x = self.dropout(x)\n",
    "        x = F.leaky_relu(self.fc2(x))\n",
    "        x = self.dropout(x)\n",
    "\n",
    "        x = self.fc3(x)\n",
    "        return x"
   ]
  },
  {
   "cell_type": "markdown",
   "metadata": {},
   "source": [
    "__Question 4:__ Outline the steps you took to get to your final CNN architecture and your reasoning at each step.  "
   ]
  },
  {
   "cell_type": "markdown",
   "metadata": {},
   "source": [
    "__Answer:__ \n",
    "### Round 1\n",
    "10% accuaracy at first glance doesn't seem to be a demanding hurdle. To begin with I decided to use a very simple CNN architecture:\n",
    "* 3 conv layers with depth:  16, 32, 64\n",
    "    * 2x2 maxpool layers after each\n",
    "    * relu activations\n",
    "* 2 dense layers with dropout between\n",
    "* No frills optimisation (CE loss and SGD)\n",
    "* To ensure it works, i started with only 32x32 input images (less compute power)... not expect much, if any performance\n",
    "\n",
    "I didn't expect much with such low resolution, but network did learn to my surprise! On first run, validation accuracy improved to 7.2% after epoch 22. Thereafter the model over-fitted, and validation accuracy deteriorated.\n",
    "Before moving on, I played with optimisation parameters:\n",
    "* SGD with higher learning rate of 0.05 (vs 0.01 initially) reached 9% accuracy at epoch 6\n",
    "* Adam required lower learning rates to work. A rate of 0.003125 reached 7.2% at epoch 5. (Comment: i played around with adam throughout this excercise - with later iterations of the model... but it didn't perform better than SGD in my experience)\n",
    "\n",
    "### Round 2\n",
    "Tried increasing the input image resolution to 64x64. Any bigger and I felt that i would have to add more layers to the CNN and classifier. For this excercise i want to try keep it minimal. I was surprised to find no improvement in validation accuracy with this change (leaving rest unchanged).\n",
    "\n",
    "I added layers:\n",
    "* a fourth conv layer with equal input and output depth\n",
    "    * increasing depth of the 4th layer had worse performance\n",
    "* a third linear layer with equal input and output nodes\n",
    "    * got idea for these same-in / same-out layers by observing VGG16 architecture\n",
    "    \n",
    "This got me to 10% test accuracy on the dot (whew!).\n",
    "\n",
    "I then started augmenting the training data. The model learned far slower, but got up to 17% on the test. It took 228 epochs to get there. It seemed to still be learning but i ran out of patience. \n",
    "Very impressive boost from data augmentation. When viewing the training images, i felt perhaps it was too agressive, but when i relaxed the augmentation, the model performed worse. Also with agressive the accuracy on the Test set was very close to that achieved on the Validation set.\n",
    "* \"Agressive\": 30deg rotation, random-resize-crop, horiz flip\n",
    "* \"Relaxed\": 10deg rotation, random-crop, horiz flip\n",
    "\n",
    "### Round 3\n",
    "This ended up being more of a fine-tuning round. I played around with ideas like batch normalization without success. For example, adding a BN layer just before the first linear layer decreased the accuracy on the fully trained model noticably. It trained much faster in the begining (looking promising) with a surprising >4% accuracy on Epoch1. But model performance plateaued early. What did work and incorporated into the final model was:\n",
    "* Use leaky_relus\n",
    "* Initialize weights with Kaimer (for both conv and linear layers). Bias left unchanged from default init.\n",
    "* Increase dropout to 50% (from 25%)\n",
    "\n",
    "Increasing dropout made a difference. The model took far longer to train but one of my benchmark runs resulted in validation accuracy improving from 21% to 29%. But in this run I wasn't using agressive augmentation, so testing accuracy was only 17%.\n",
    "\n",
    "The final model presented tested with a 24% accuaracy. I believe that I could get this up to 29% if trained with 50% dropout, but training was taking a very long time and I wanted to preserve my GPU time.\n",
    "\n",
    "### My personal learnings\n",
    "* Speed helps! My first model runs were processing at 80 images per second. My final setup was running at 2000ps. Improvements were\n",
    "    * Use smaller images. \n",
    "    * Furthermore do one-off preprocessing of images, standardising them to a smaller size. A bottleneck even on GPU was the loading of images.\n",
    "    * Push envelope on learning rates\n",
    "* Use a GPU and optimise for it\n",
    "    * 4 workers per cpu as rule of thumb\n",
    "    * avoid .cpu() .numpy() .item(), use .detach() if needed\n",
    "    * maximise your batch size to limit of memory\n",
    "* Make it difficult to learn. Takes longer, but final trained model achieved far higher accuracy.\n",
    "    * Agressive augmentaion worked\n",
    "    * Higher dropout worked\n",
    "* Simpler works\n",
    "    * Faster means more iterations\n",
    "    * I found that in general, when trying more \"fancy\" stuff that performance actually decreased. It could be that i don't understand how to use these fancy tools. But my rule-of-thumb would be to apply each new idea with discernment and caution.\n",
    "    "
   ]
  },
  {
   "cell_type": "markdown",
   "metadata": {},
   "source": [
    "### (IMPLEMENTATION) Specify Loss Function and Optimizer\n",
    "\n",
    "Use the next code cell to specify a [loss function](http://pytorch.org/docs/stable/nn.html#loss-functions) and [optimizer](http://pytorch.org/docs/stable/optim.html).  Save the chosen loss function as `criterion_scratch`, and the optimizer as `optimizer_scratch` below."
   ]
  },
  {
   "cell_type": "code",
   "execution_count": null,
   "metadata": {},
   "outputs": [],
   "source": [
    "# instantiate the CNN\n",
    "model_scratch = Net()"
   ]
  },
  {
   "cell_type": "code",
   "execution_count": null,
   "metadata": {},
   "outputs": [],
   "source": [
    "import torch.optim as optim\n",
    "\n",
    "# specify loss function (categorical cross-entropy)\n",
    "criterion_scratch = nn.CrossEntropyLoss()\n",
    "\n",
    "# specify optimizer\n",
    "optimizer_scratch = optim.SGD(model_scratch.parameters(), lr=0.05)"
   ]
  },
  {
   "cell_type": "code",
   "execution_count": null,
   "metadata": {},
   "outputs": [],
   "source": [
    "def weights_init_kaiming(m):\n",
    "    if isinstance(m, nn.Conv2d) or isinstance(m, nn.Linear):\n",
    "        nn.init.kaiming_uniform_(m.weight, mode='fan_in', nonlinearity='leaky_relu')\n",
    "        # leave bias unchanged (-std, std), where std different for conv and linear\n",
    "\n",
    "model_scratch.apply(weights_init_kaiming)"
   ]
  },
  {
   "cell_type": "markdown",
   "metadata": {},
   "source": [
    "### (IMPLEMENTATION) Train and Validate the Model\n",
    "\n",
    "Train and validate your model in the code cell below.  [Save the final model parameters](http://pytorch.org/docs/master/notes/serialization.html) at filepath `'model_scratch.pt'`."
   ]
  },
  {
   "cell_type": "code",
   "execution_count": null,
   "metadata": {},
   "outputs": [],
   "source": [
    "import time\n",
    "\n",
    "def train(n_epochs, loaders, model, optimizer, criterion):\n",
    "    \"\"\"returns trained model\"\"\"\n",
    "\n",
    "    is_cuda_available = torch.cuda.is_available()\n",
    "    if is_cuda_available:\n",
    "        model = model.cuda()\n",
    "\n",
    "    dataset_size = len(loaders['train'].dataset)\n",
    "    batch_size = loaders['train'].batch_size\n",
    "    print(\"Training & validating on {} samples in batches of {}\".format(dataset_size, batch_size))\n",
    "    print(\"Random accuracy is {:.2f}%\\n\".format(100./model.num_labels))\n",
    "\n",
    "    \n",
    "    for epoch in range(model.epoch, n_epochs+1):\n",
    "        # initialize variables to monitor training and validation loss\n",
    "        train_loss = 0.0\n",
    "        valid_loss = 0.0\n",
    "        \n",
    "        start = time.time()\n",
    "        \n",
    "        ###################\n",
    "        # train the model #\n",
    "        ###################\n",
    "        model.train()\n",
    "        cuml_batch_loss = 0.0\n",
    "        for batch_idx, (data, target) in enumerate(loaders['train']):\n",
    "            # move to GPU\n",
    "            if is_cuda_available:\n",
    "                data, target = data.cuda(), target.cuda()\n",
    "            ## find the loss and update the model parameters accordingly\n",
    "            # clear the gradients of all optimized variables\n",
    "            optimizer.zero_grad()\n",
    "            # forward pass: compute predicted outputs by passing inputs to the model\n",
    "            output = model(data)\n",
    "            # calculate the batch loss\n",
    "            loss = criterion(output, target)\n",
    "            # backward pass: compute gradient of the loss with respect to model parameters\n",
    "            loss.backward()\n",
    "            # perform a single optimization step (parameter update)\n",
    "            optimizer.step()\n",
    "            # update avg training loss\n",
    "            cuml_batch_loss += loss.data\n",
    "            train_loss = model.num_labels**-0.5 * cuml_batch_loss / (batch_idx+1)\n",
    "           # For debug purposes, print out our prediction accuracy and speed \n",
    "            # throughout the training process. \n",
    "            elapsed_time = float(time.time() - start)\n",
    "            speed = batch_size*batch_idx / elapsed_time if elapsed_time > 0 else 0\n",
    "            \n",
    "            if batch_idx == 0:\n",
    "                begin_loss = train_loss\n",
    "            \n",
    "            #Monitor every batch for currently executing epoch\n",
    "            print(\"{:.0f}% \\tTraining Loss: {:.6f} --> {:.6f} \\t#/s: {:.1f}\".format(100.*batch_idx*batch_size/dataset_size, begin_loss, train_loss, speed), end='\\r')\n",
    "\n",
    "        ######################    \n",
    "        # validate the model #\n",
    "        ######################\n",
    "        model.eval()\n",
    "\n",
    "        cuml_batch_loss = 0.0\n",
    "        correct = 0.\n",
    "        total = 0.\n",
    "        \n",
    "        for batch_idx, (data, target) in enumerate(loaders['valid']):\n",
    "            # move to GPU\n",
    "            if is_cuda_available:\n",
    "                data, target = data.cuda(), target.cuda()\n",
    "            ## update the average validation loss\n",
    "            # forward pass: compute predicted outputs by passing inputs to the model\n",
    "            output = model(data)\n",
    "            # calculate avg batch loss\n",
    "            loss = criterion(output, target)\n",
    "            cuml_batch_loss += loss.data\n",
    "            ## Note to grader - I normalise by the number of labels in order to have a loss\n",
    "            #    metric that is more comparable across models / problems\n",
    "            valid_loss = model.num_labels**-0.5 * cuml_batch_loss / (batch_idx+1)\n",
    "            \n",
    "            # convert output probabilities to predicted class\n",
    "            pred = output.data.max(1, keepdim=True)[1]\n",
    "            # compare predictions to true label\n",
    "            correct += np.sum(np.squeeze(pred.eq(target.data.view_as(pred))).cpu().numpy())\n",
    "            total += data.size(0)\n",
    "            accuracy = 100. * correct / total\n",
    "            #Monitor every batch for currently executing epoch\n",
    "            print(\"Batch: {:.1f} \\tValidation Loss: {:.6f}\\tTest Accuracy: {:.1f}% ({}/{})\"\n",
    "                  .format(batch_idx, valid_loss, accuracy, correct, total), end='\\r')\n",
    "            \n",
    "        # print training/validation statistics\n",
    "        print('',end='\\r')                \n",
    "        print('Epoch: {} \\tTraining Loss: {:.6f} \\tValidation Loss: {:.6f} |v/t={:.2f}\\tAccuracy: {:.1f}% ({:.0f}/{:.0f})'\n",
    "              .format(epoch, train_loss, valid_loss, valid_loss/train_loss, 100. * correct / total, correct, total))\n",
    "        \n",
    "        ## TODO: save the model if validation loss has decreased\n",
    "        if (valid_loss <= model.min_validation_loss) and (accuracy >= model.max_accuracy):\n",
    "            print('  Checkpoint:\\t Loss ({:.6f} --> {:.6f})\\tAccuracy ({:.1f}% ++> {:.1f}%)'.format(\n",
    "            model.min_validation_loss,\n",
    "            valid_loss,\n",
    "            model.max_accuracy,\n",
    "            accuracy))\n",
    "            checkpoint = {'epoch': epoch,\n",
    "                          'min_validation_loss': model.min_validation_loss,\n",
    "                          'max_accuracy': model.max_accuracy,\n",
    "                          'state_dict' : model.state_dict()}\n",
    "            torch.save(checkpoint, model.checkpoint_file)\n",
    "            model.min_validation_loss = valid_loss \n",
    "            model.max_accuracy = accuracy\n",
    "        elif valid_loss/train_loss > 1.25 and accuracy < model.max_accuracy: #quit training if validation deteriorating\n",
    "            break\n",
    "            \n",
    "    # return trained model\n",
    "    return model"
   ]
  },
  {
   "cell_type": "code",
   "execution_count": null,
   "metadata": {},
   "outputs": [],
   "source": [
    "# To save resources - load already trained version an train last leg\n",
    "checkpoint = torch.load('model_scratch_final.pt',map_location=torch.device('cpu'))\n",
    "model_scratch.load_state_dict(checkpoint['state_dict'])\n",
    "model_scratch.epoch = checkpoint['epoch']\n",
    "model_scratch.min_validation_loss = checkpoint['min_validation_loss']\n",
    "model_scratch.max_accuracy = checkpoint['max_accuracy']"
   ]
  },
  {
   "cell_type": "code",
   "execution_count": null,
   "metadata": {},
   "outputs": [],
   "source": [
    "loaders_scratch = {'train': train_loader, 'valid' : valid_loader, 'test' : test_loader}\n",
    "\n",
    "# train the model\n",
    "model_scratch = train(2000, loaders_scratch, model_scratch, optimizer_scratch, \n",
    "                      criterion_scratch)\n",
    "\n",
    "from IPython.display import Audio\n",
    "sound_file = 'https://www.soundjay.com/button/beep-05.mp3'\n",
    "Audio(sound_file, autoplay=True)"
   ]
  },
  {
   "cell_type": "code",
   "execution_count": null,
   "metadata": {},
   "outputs": [],
   "source": [
    "# load the model that got the best validation accuracy\n",
    "checkpoint = torch.load('model_scratch_v3.pt',map_location=torch.device('cpu'))\n",
    "model_scratch.load_state_dict(checkpoint['state_dict'])\n",
    "model_scratch.epoch = checkpoint['epoch']\n",
    "model_scratch.min_validation_loss = checkpoint['min_validation_loss']\n",
    "model_scratch.max_accuracy = checkpoint['max_accuracy']"
   ]
  },
  {
   "cell_type": "markdown",
   "metadata": {},
   "source": [
    "### (IMPLEMENTATION) Test the Model\n",
    "\n",
    "Try out your model on the test dataset of dog images.  Use the code cell below to calculate and print the test loss and accuracy.  Ensure that your test accuracy is greater than 10%."
   ]
  },
  {
   "cell_type": "code",
   "execution_count": null,
   "metadata": {},
   "outputs": [],
   "source": [
    "def test(loaders, model, criterion):\n",
    "    \n",
    "    is_cuda_available = torch.cuda.is_available()\n",
    "    if is_cuda_available:\n",
    "        model = model.cuda()\n",
    "        \n",
    "    # monitor test loss and accuracy\n",
    "    test_loss = 0.\n",
    "    correct = 0.\n",
    "    total = 0.\n",
    "\n",
    "    model.eval()\n",
    "    cuml_batch_loss = 0.\n",
    "    for batch_idx, (data, target) in enumerate(loaders['test']):\n",
    "        # move to GPU\n",
    "        if is_cuda_available:\n",
    "            data, target = data.cuda(), target.cuda()\n",
    "        # forward pass: compute predicted outputs by passing inputs to the model\n",
    "        output = model(data)\n",
    "        # calculate the loss\n",
    "        loss = criterion(output, target)\n",
    "        # update average test loss \n",
    "        cuml_batch_loss += loss.data\n",
    "        test_loss = model.num_labels**-0.5 * cuml_batch_loss/(batch_idx + 1)\n",
    "        # convert output probabilities to predicted class\n",
    "        pred = output.data.max(1, keepdim=True)[1]\n",
    "        # compare predictions to true label\n",
    "        #  todo: avoid .cpu() .numpy() as slows performance on GPU\n",
    "        correct += np.sum(np.squeeze(pred.eq(target.data.view_as(pred))).cpu().numpy())\n",
    "        total += data.size(0)\n",
    "        \n",
    "        #Monitor every batch for currently executing epoch\n",
    "        print(\"Batch: {} \\tTest Loss: {:.6f}\\tTest Accuracy: {:.1f}% ({}/{})\"\n",
    "              .format(batch_idx, test_loss,100. * correct / total, correct, total), end='\\r')\n",
    "\n",
    "    print(' '*200,end='\\r')        \n",
    "    print('Test Loss: {:.6f}'.format(test_loss))\n",
    "\n",
    "    print('\\nTest Accuracy: %2d%% (%2d/%2d)' % (\n",
    "        100. * correct / total, correct, total))\n",
    "\n",
    "# call test function    \n",
    "test(loaders_scratch, model_scratch, criterion_scratch)"
   ]
  },
  {
   "cell_type": "markdown",
   "metadata": {},
   "source": [
    "---\n",
    "<a id='step4'></a>\n",
    "## Step 4: Create a CNN to Classify Dog Breeds (using Transfer Learning)\n",
    "\n",
    "You will now use transfer learning to create a CNN that can identify dog breed from images.  Your CNN must attain at least 60% accuracy on the test set.\n",
    "\n",
    "### (IMPLEMENTATION) Specify Data Loaders for the Dog Dataset\n",
    "\n",
    "Use the code cell below to write three separate [data loaders](http://pytorch.org/docs/master/data.html#torch.utils.data.DataLoader) for the training, validation, and test datasets of dog images (located at `dogImages/train`, `dogImages/valid`, and `dogImages/test`, respectively). \n",
    "\n",
    "If you like, **you are welcome to use the same data loaders from the previous step**, when you created a CNN from scratch."
   ]
  },
  {
   "cell_type": "code",
   "execution_count": null,
   "metadata": {},
   "outputs": [],
   "source": [
    "import os\n",
    "import torch\n",
    "from torchvision import datasets\n",
    "import torchvision.transforms as transforms \n",
    "from torch.utils.data.sampler import SubsetRandomSampler\n",
    "import numpy as np\n",
    "from tqdm import tqdm"
   ]
  },
  {
   "cell_type": "code",
   "execution_count": null,
   "metadata": {},
   "outputs": [],
   "source": [
    "## TODO: Specify data loaders"
   ]
  },
  {
   "cell_type": "code",
   "execution_count": null,
   "metadata": {},
   "outputs": [],
   "source": [
    "input_image_size = 224 #assume square\n",
    "\n",
    "# number of subprocesses to use for data loading\n",
    "if torch.cuda.is_available():\n",
    "    num_workers = 4 #±4 per gpu\n",
    "    batch_size = 50\n",
    "else:\n",
    "    num_workers = 0\n",
    "    batch_size = 20\n",
    "    \n",
    "# percentage of training set to use as validation\n",
    "valid_size = 0.2\n",
    "\n",
    "# imagenet norm\n",
    "mean=[0.485, 0.456, 0.406]\n",
    "std=[0.229, 0.224, 0.225]\n",
    "\n",
    "normalize = transforms.Normalize(\n",
    "    mean,\n",
    "    std)\n",
    "\n",
    "augment = transforms.Compose([\n",
    "    transforms.RandomRotation(30),\n",
    "    # Crop of random size (default: of 0.08 to 1.0) of the original size\n",
    "    # and a random aspect ratio (default: of 3/4 to 4/3)\n",
    "    # This crop is finally resized to given size\n",
    "    transforms.RandomResizedCrop(input_image_size),\n",
    "    transforms.RandomHorizontalFlip()])\n",
    "\n",
    "crop_in = transforms.Compose([\n",
    "    # Resize already done with preprocessing\n",
    "    #     transforms.Resize(80),\n",
    "    transforms.CenterCrop(input_image_size)])\n",
    "\n",
    "train_transform = transforms.Compose([\n",
    "    augment,\n",
    "    transforms.ToTensor(),\n",
    "    normalize])\n",
    "\n",
    "valid_transform = transforms.Compose([\n",
    "    crop_in,\n",
    "    transforms.ToTensor(),\n",
    "    normalize])\n",
    "\n",
    "test_transform = transforms.Compose([\n",
    "    transforms.Resize((input_image_size, input_image_size)),\n",
    "    transforms.ToTensor(),\n",
    "    normalize])\n",
    "\n"
   ]
  },
  {
   "cell_type": "code",
   "execution_count": null,
   "metadata": {},
   "outputs": [],
   "source": [
    "data_dir = 'sml280/data/dogImages' #laptop\n",
    "# data_dir = '/data/dog_images' #workspace\n",
    "\n",
    "train_data = datasets.ImageFolder(data_dir + '/train', transform = train_transform)\n",
    "valid_data = datasets.ImageFolder(data_dir + '/valid', transform = valid_transform)\n",
    "test_data = datasets.ImageFolder(data_dir + '/test', transform = test_transform)\n",
    "\n",
    "train_loader = torch.utils.data.DataLoader(train_data, batch_size = batch_size, shuffle= True, num_workers=num_workers)\n",
    "valid_loader = torch.utils.data.DataLoader(valid_data, batch_size = batch_size, shuffle= True, num_workers=num_workers)\n",
    "test_loader = torch.utils.data.DataLoader(test_data, batch_size = batch_size, num_workers=num_workers)\n",
    "\n",
    "print(\"Sample sizes:\\nTrain: {}\\tValid: {}\\tTest: {}\".format(len(train_data),len(valid_data),len(test_data)))\n",
    "\n",
    "# specify the image classes\n",
    "classes = train_data.classes\n",
    "\n",
    "# should you require dictionary mapping {class: idx}\n",
    "# train_data.class_to_idx\n",
    "\n"
   ]
  },
  {
   "cell_type": "markdown",
   "metadata": {},
   "source": [
    "### (IMPLEMENTATION) Model Architecture\n",
    "\n",
    "Use transfer learning to create a CNN to classify dog breed.  Use the code cell below, and save your initialized model as the variable `model_transfer`."
   ]
  },
  {
   "cell_type": "code",
   "execution_count": null,
   "metadata": {},
   "outputs": [],
   "source": [
    "import torchvision.models as models\n",
    "import torch.nn as nn\n",
    "\n",
    "# define the CNN architecture\n",
    "class Net(nn.Module):\n",
    "    def __init__(self, num_classes, pre_trained = models.vgg16(pretrained=True)):\n",
    "        super(Net, self).__init__()\n",
    "        \n",
    "        #Tracking meta-data\n",
    "        self.checkpoint_file = 'model_transfer_v1.pt'\n",
    "        self.epoch = 1\n",
    "        self.min_validation_loss = float('inf')\n",
    "        self.max_accuracy = 0.\n",
    "        self.num_labels = num_classes        \n",
    "\n",
    "        ### Customize\n",
    "        self.features = pre_trained.features\n",
    "        self.classifier = pre_trained.classifier\n",
    "        \n",
    "        # Freeze training for all \"features\" layers\n",
    "        for param in self.features.parameters():\n",
    "            param.requires_grad = False\n",
    "\n",
    "        # Replace final layer\n",
    "        self.classifier[6] = nn.Linear(\n",
    "            self.classifier[6].in_features, \n",
    "            num_classes)\n",
    "\n",
    "    def forward(self, x):\n",
    "        #return super(Net, self).forward(x)\n",
    "        x = self.features(x)\n",
    "        x = x.flatten(start_dim=1)\n",
    "        return self.classifier(x)\n",
    "        \n",
    "        \n",
    "#         input_dims = 64\n",
    "#         conv_out_dims = 4 # 64->32->16->8->4\n",
    "#         conv_out_depth = 64\n",
    "        \n",
    "#         self.linear_input_dims = conv_out_depth * conv_out_dims**2\n",
    "\n"
   ]
  },
  {
   "cell_type": "code",
   "execution_count": null,
   "metadata": {},
   "outputs": [],
   "source": [
    "model_transfer = Net(133)\n",
    "model_transfer\n",
    "for param in model_transfer.parameters():\n",
    "    print(param.name,\" \",param.requires_grad)"
   ]
  },
  {
   "cell_type": "markdown",
   "metadata": {},
   "source": [
    "__Question 5:__ Outline the steps you took to get to your final CNN architecture and your reasoning at each step.  Describe why you think the architecture is suitable for the current problem."
   ]
  },
  {
   "cell_type": "markdown",
   "metadata": {},
   "source": [
    "__Answer:__ \n"
   ]
  },
  {
   "cell_type": "markdown",
   "metadata": {},
   "source": [
    "### (IMPLEMENTATION) Specify Loss Function and Optimizer\n",
    "\n",
    "Use the next code cell to specify a [loss function](http://pytorch.org/docs/master/nn.html#loss-functions) and [optimizer](http://pytorch.org/docs/master/optim.html).  Save the chosen loss function as `criterion_transfer`, and the optimizer as `optimizer_transfer` below."
   ]
  },
  {
   "cell_type": "code",
   "execution_count": null,
   "metadata": {},
   "outputs": [],
   "source": [
    "import torch.optim as optim\n",
    "\n",
    "criterion_transfer = nn.CrossEntropyLoss()\n",
    "optimizer_transfer = optim.SGD(model_transfer.parameters(), lr=0.05)"
   ]
  },
  {
   "cell_type": "code",
   "execution_count": null,
   "metadata": {},
   "outputs": [],
   "source": [
    "def weights_init_kaiming(m):\n",
    "    if isinstance(m, nn.Conv2d) or isinstance(m, nn.Linear):\n",
    "        nn.init.kaiming_uniform_(m.weight, mode='fan_in', nonlinearity='leaky_relu')\n",
    "        # leave bias unchanged (-std, std), where std different for conv and linear\n",
    "\n",
    "model_transfer.classifier.apply(weights_init_kaiming)\n",
    "# model_transfer.classifier[6].bias.data.sum()\n",
    "# model_transfer.classifier[6].weight.data.sum()"
   ]
  },
  {
   "cell_type": "markdown",
   "metadata": {},
   "source": [
    "### (IMPLEMENTATION) Train and Validate the Model\n",
    "\n",
    "Train and validate your model in the code cell below.  [Save the final model parameters](http://pytorch.org/docs/master/notes/serialization.html) at filepath `'model_transfer.pt'`."
   ]
  },
  {
   "cell_type": "code",
   "execution_count": null,
   "metadata": {},
   "outputs": [],
   "source": [
    "import time\n",
    "\n",
    "def train(n_epochs, loaders, model, optimizer, criterion):\n",
    "    \"\"\"returns trained model\"\"\"\n",
    "\n",
    "    is_cuda_available = torch.cuda.is_available()\n",
    "    if is_cuda_available:\n",
    "        model = model.cuda()\n",
    "\n",
    "    dataset_size = len(loaders['train'].dataset)\n",
    "    batch_size = loaders['train'].batch_size\n",
    "    print(\"Training & validating on {} samples in batches of {}\".format(dataset_size, batch_size))\n",
    "    print(\"Random accuracy is {:.2f}%\\n\".format(100./model.num_labels))\n",
    "\n",
    "    \n",
    "    for epoch in range(model.epoch, n_epochs+1):\n",
    "        # initialize variables to monitor training and validation loss\n",
    "        train_loss = 0.0\n",
    "        valid_loss = 0.0\n",
    "        \n",
    "        start = time.time()\n",
    "        \n",
    "        ###################\n",
    "        # train the model #\n",
    "        ###################\n",
    "        model.train()\n",
    "        cuml_batch_loss = 0.0\n",
    "        for batch_idx, (data, target) in enumerate(loaders['train']):\n",
    "            # move to GPU\n",
    "            if is_cuda_available:\n",
    "                data, target = data.cuda(), target.cuda()\n",
    "            ## find the loss and update the model parameters accordingly\n",
    "            # clear the gradients of all optimized variables\n",
    "            optimizer.zero_grad()\n",
    "            # forward pass: compute predicted outputs by passing inputs to the model\n",
    "            output = model(data)\n",
    "            # calculate the batch loss\n",
    "            loss = criterion(output, target)\n",
    "            # backward pass: compute gradient of the loss with respect to model parameters\n",
    "            loss.backward()\n",
    "            # perform a single optimization step (parameter update)\n",
    "            optimizer.step()\n",
    "            # update avg training loss\n",
    "            cuml_batch_loss += loss.data\n",
    "            train_loss = model.num_labels**-0.5 * cuml_batch_loss / (batch_idx+1)\n",
    "           # For debug purposes, print out our prediction accuracy and speed \n",
    "            # throughout the training process. \n",
    "            elapsed_time = float(time.time() - start)\n",
    "            speed = batch_size*batch_idx / elapsed_time if elapsed_time > 0 else 0\n",
    "            \n",
    "            if batch_idx == 0:\n",
    "                begin_loss = train_loss\n",
    "            \n",
    "            #Monitor every batch for currently executing epoch\n",
    "            print(\"{:.0f}% \\tTraining Loss: {:.6f} --> {:.6f} \\t#/s: {:.1f}\".format(100.*batch_idx*batch_size/dataset_size, begin_loss, train_loss, speed), end='\\r')\n",
    "\n",
    "        ######################    \n",
    "        # validate the model #\n",
    "        ######################\n",
    "        model.eval()\n",
    "\n",
    "        cuml_batch_loss = 0.0\n",
    "        correct = 0.\n",
    "        total = 0.\n",
    "        \n",
    "        for batch_idx, (data, target) in enumerate(loaders['valid']):\n",
    "            # move to GPU\n",
    "            if is_cuda_available:\n",
    "                data, target = data.cuda(), target.cuda()\n",
    "            ## update the average validation loss\n",
    "            # forward pass: compute predicted outputs by passing inputs to the model\n",
    "            output = model(data)\n",
    "            # calculate avg batch loss\n",
    "            loss = criterion(output, target)\n",
    "            cuml_batch_loss += loss.data\n",
    "            ## Note to grader - I normalise by the number of labels in order to have a loss\n",
    "            #    metric that is more comparable across models / problems\n",
    "            valid_loss = model.num_labels**-0.5 * cuml_batch_loss / (batch_idx+1)\n",
    "            \n",
    "            # convert output probabilities to predicted class\n",
    "            pred = output.data.max(1, keepdim=True)[1]\n",
    "            # compare predictions to true label\n",
    "            correct += np.sum(np.squeeze(pred.eq(target.data.view_as(pred))).cpu().numpy())\n",
    "            total += data.size(0)\n",
    "            accuracy = 100. * correct / total\n",
    "            #Monitor every batch for currently executing epoch\n",
    "            print(\"Batch: {:.1f} \\tValidation Loss: {:.6f}\\tTest Accuracy: {:.1f}% ({}/{})\"\n",
    "                  .format(batch_idx, valid_loss, accuracy, correct, total), end='\\r')\n",
    "            \n",
    "        # print training/validation statistics\n",
    "        print('',end='\\r')                \n",
    "        print('Epoch: {} \\tTraining Loss: {:.6f} \\tValidation Loss: {:.6f} |v/t={:.2f}\\tAccuracy: {:.1f}% ({:.0f}/{:.0f})'\n",
    "              .format(epoch, train_loss, valid_loss, valid_loss/train_loss, 100. * correct / total, correct, total))\n",
    "        \n",
    "        ## TODO: save the model if validation loss has decreased\n",
    "        if (valid_loss <= model.min_validation_loss) and (accuracy >= model.max_accuracy):\n",
    "            print('  Checkpoint:\\t Loss ({:.6f} --> {:.6f})\\tAccuracy ({:.1f}% ++> {:.1f}%)'.format(\n",
    "            model.min_validation_loss,\n",
    "            valid_loss,\n",
    "            model.max_accuracy,\n",
    "            accuracy))\n",
    "            checkpoint = {'epoch': epoch,\n",
    "                          'min_validation_loss': model.min_validation_loss,\n",
    "                          'max_accuracy': model.max_accuracy,\n",
    "                          'state_dict' : model.state_dict()}\n",
    "            torch.save(checkpoint, model.checkpoint_file)\n",
    "            model.min_validation_loss = valid_loss \n",
    "            model.max_accuracy = accuracy\n",
    "        elif valid_loss/train_loss > 1.25 and accuracy < model.max_accuracy: #quit training if validation deteriorating\n",
    "            break\n",
    "            \n",
    "    # return trained model\n",
    "    return model"
   ]
  },
  {
   "cell_type": "code",
   "execution_count": null,
   "metadata": {},
   "outputs": [],
   "source": [
    "model_transfer.classifier[0]"
   ]
  },
  {
   "cell_type": "code",
   "execution_count": null,
   "metadata": {},
   "outputs": [],
   "source": [
    "# vgg = models.vgg16(pretrained=True)\n",
    "# vgg(torch.randn(10,3,224,224))\n",
    "# vgg.forward(torch.randn(10,3,224,224))\n",
    "x = model_transfer.features(torch.randn(10,3,224,224))\n",
    "x.flatten(start_dim=1).shape\n",
    "# x = model_transfer.classifier[0](x)\n",
    "# x.shape\n",
    "\n",
    "# model_transfer(torch.randn(10,3,224,224))\n",
    "\n"
   ]
  },
  {
   "cell_type": "code",
   "execution_count": null,
   "metadata": {},
   "outputs": [],
   "source": [
    "loaders_scratch = {'train': train_loader, 'valid' : valid_loader, 'test' : test_loader}\n",
    "\n",
    "# train the model\n",
    "try:\n",
    "    model_transfer = train(2000, loaders_scratch, model_transfer, optimizer_transfer, \n",
    "                      criterion_transfer)\n",
    "except KeyboardInterrupt:\n",
    "    print(\"User terminated\")\n",
    "\n",
    "from IPython.display import Audio\n",
    "sound_file = 'https://www.soundjay.com/button/beep-05.mp3'\n",
    "Audio(sound_file, autoplay=True)"
   ]
  },
  {
   "cell_type": "markdown",
   "metadata": {},
   "source": [
    "### (IMPLEMENTATION) Test the Model\n",
    "\n",
    "Try out your model on the test dataset of dog images. Use the code cell below to calculate and print the test loss and accuracy.  Ensure that your test accuracy is greater than 60%."
   ]
  },
  {
   "cell_type": "code",
   "execution_count": null,
   "metadata": {},
   "outputs": [],
   "source": [
    "# load the model that got the best validation accuracy\n",
    "checkpoint = torch.load('model_transfer_v1.pt',map_location=torch.device('cpu'))\n",
    "model_transfer.load_state_dict(checkpoint['state_dict'])\n",
    "model_transfer.epoch = checkpoint['epoch']\n",
    "model_transfer.min_validation_loss = checkpoint['min_validation_loss']\n",
    "model_transfer.max_accuracy = checkpoint['max_accuracy']"
   ]
  },
  {
   "cell_type": "code",
   "execution_count": null,
   "metadata": {},
   "outputs": [],
   "source": [
    "def test(loaders, model, criterion):\n",
    "    \n",
    "    is_cuda_available = torch.cuda.is_available()\n",
    "    if is_cuda_available:\n",
    "        model = model.cuda()\n",
    "        \n",
    "    # monitor test loss and accuracy\n",
    "    test_loss = 0.\n",
    "    correct = 0.\n",
    "    total = 0.\n",
    "\n",
    "    model.eval()\n",
    "    cuml_batch_loss = 0.\n",
    "    for batch_idx, (data, target) in enumerate(loaders['test']):\n",
    "        # move to GPU\n",
    "        if is_cuda_available:\n",
    "            data, target = data.cuda(), target.cuda()\n",
    "        # forward pass: compute predicted outputs by passing inputs to the model\n",
    "        output = model(data)\n",
    "        # calculate the loss\n",
    "        loss = criterion(output, target)\n",
    "        # update average test loss \n",
    "        cuml_batch_loss += loss.data\n",
    "        test_loss = model.num_labels**-0.5 * cuml_batch_loss/(batch_idx + 1)\n",
    "        # convert output probabilities to predicted class\n",
    "        pred = output.data.max(1, keepdim=True)[1]\n",
    "        # compare predictions to true label\n",
    "        #  todo: avoid .cpu() .numpy() as slows performance on GPU\n",
    "        correct += np.sum(np.squeeze(pred.eq(target.data.view_as(pred))).cpu().numpy())\n",
    "        total += data.size(0)\n",
    "        \n",
    "        #Monitor every batch for currently executing epoch\n",
    "        print(\"Batch: {} \\tTest Loss: {:.6f}\\tTest Accuracy: {:.1f}% ({}/{})\"\n",
    "              .format(batch_idx, test_loss,100. * correct / total, correct, total), end='\\r')\n",
    "\n",
    "    print(' '*200,end='\\r')        \n",
    "    print('Test Loss: {:.6f}'.format(test_loss))\n",
    "\n",
    "    print('\\nTest Accuracy: %2d%% (%2d/%2d)' % (\n",
    "        100. * correct / total, correct, total))\n",
    "\n",
    "# call test function    \n",
    "test(loaders_scratch, model_transfer, criterion_transfer)"
   ]
  },
  {
   "cell_type": "markdown",
   "metadata": {},
   "source": [
    "### (IMPLEMENTATION) Predict Dog Breed with the Model\n",
    "\n",
    "Write a function that takes an image path as input and returns the dog breed (`Affenpinscher`, `Afghan hound`, etc) that is predicted by your model.  "
   ]
  },
  {
   "cell_type": "code",
   "execution_count": null,
   "metadata": {},
   "outputs": [],
   "source": [
    "### TODO: Write a function that takes a path to an image as input\n",
    "### and returns the dog breed that is predicted by the model.\n",
    "\n",
    "# list of class names by index, i.e. a name can be accessed like class_names[0]\n",
    "class_names = [item[4:].replace(\"_\", \" \") for item in data_transfer['train'].classes]\n",
    "\n",
    "def predict_breed_transfer(img_path):\n",
    "    # load the image and return the predicted breed\n",
    "    return None"
   ]
  },
  {
   "cell_type": "markdown",
   "metadata": {},
   "source": [
    "---\n",
    "<a id='step5'></a>\n",
    "## Step 5: Write your Algorithm\n",
    "\n",
    "Write an algorithm that accepts a file path to an image and first determines whether the image contains a human, dog, or neither.  Then,\n",
    "- if a __dog__ is detected in the image, return the predicted breed.\n",
    "- if a __human__ is detected in the image, return the resembling dog breed.\n",
    "- if __neither__ is detected in the image, provide output that indicates an error.\n",
    "\n",
    "You are welcome to write your own functions for detecting humans and dogs in images, but feel free to use the `face_detector` and `human_detector` functions developed above.  You are __required__ to use your CNN from Step 4 to predict dog breed.  \n",
    "\n",
    "Some sample output for our algorithm is provided below, but feel free to design your own user experience!\n",
    "\n",
    "![Sample Human Output](images/sample_human_output.png)\n",
    "\n",
    "\n",
    "### (IMPLEMENTATION) Write your Algorithm"
   ]
  },
  {
   "cell_type": "code",
   "execution_count": null,
   "metadata": {},
   "outputs": [],
   "source": [
    "### TODO: Write your algorithm.\n",
    "### Feel free to use as many code cells as needed.\n",
    "\n",
    "def run_app(img_path):\n",
    "    ## handle cases for a human face, dog, and neither\n",
    "    \n"
   ]
  },
  {
   "cell_type": "markdown",
   "metadata": {},
   "source": [
    "---\n",
    "<a id='step6'></a>\n",
    "## Step 6: Test Your Algorithm\n",
    "\n",
    "In this section, you will take your new algorithm for a spin!  What kind of dog does the algorithm think that _you_ look like?  If you have a dog, does it predict your dog's breed accurately?  If you have a cat, does it mistakenly think that your cat is a dog?\n",
    "\n",
    "### (IMPLEMENTATION) Test Your Algorithm on Sample Images!\n",
    "\n",
    "Test your algorithm at least six images on your computer.  Feel free to use any images you like.  Use at least two human and two dog images.  \n",
    "\n",
    "__Question 6:__ Is the output better than you expected :) ?  Or worse :( ?  Provide at least three possible points of improvement for your algorithm."
   ]
  },
  {
   "cell_type": "markdown",
   "metadata": {},
   "source": [
    "__Answer:__ (Three possible points for improvement)"
   ]
  },
  {
   "cell_type": "code",
   "execution_count": null,
   "metadata": {},
   "outputs": [],
   "source": [
    "## TODO: Execute your algorithm from Step 6 on\n",
    "## at least 6 images on your computer.\n",
    "## Feel free to use as many code cells as needed.\n",
    "\n",
    "## suggested code, below\n",
    "for file in np.hstack((human_files[:3], dog_files[:3])):\n",
    "    run_app(file)"
   ]
  }
 ],
 "metadata": {
  "anaconda-cloud": {},
  "kernelspec": {
   "display_name": "Python 3",
   "language": "python",
   "name": "python3"
  },
  "language_info": {
   "codemirror_mode": {
    "name": "ipython",
    "version": 3
   },
   "file_extension": ".py",
   "mimetype": "text/x-python",
   "name": "python",
   "nbconvert_exporter": "python",
   "pygments_lexer": "ipython3",
   "version": "3.9.1"
  }
 },
 "nbformat": 4,
 "nbformat_minor": 4
}
